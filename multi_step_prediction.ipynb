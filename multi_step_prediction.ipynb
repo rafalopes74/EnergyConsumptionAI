{
  "nbformat": 4,
  "nbformat_minor": 0,
  "metadata": {
    "colab": {
      "name": "multi-step_prediction.ipynb",
      "provenance": [],
      "authorship_tag": "ABX9TyPj66KgdaVkEBV6RnlY3dY0",
      "include_colab_link": true
    },
    "kernelspec": {
      "name": "python3",
      "display_name": "Python 3"
    },
    "language_info": {
      "name": "python"
    }
  },
  "cells": [
    {
      "cell_type": "markdown",
      "metadata": {
        "id": "view-in-github",
        "colab_type": "text"
      },
      "source": [
        "<a href=\"https://colab.research.google.com/github/rafalopes74/EnergyConsumptionAI/blob/main/multi_step_prediction.ipynb\" target=\"_parent\"><img src=\"https://colab.research.google.com/assets/colab-badge.svg\" alt=\"Open In Colab\"/></a>"
      ]
    },
    {
      "cell_type": "markdown",
      "source": [
        "https://machinelearningmastery.com/how-to-develop-lstm-models-for-time-series-forecasting/"
      ],
      "metadata": {
        "id": "JNqJEIjXvKqx"
      }
    },
    {
      "cell_type": "code",
      "source": [
        "pip install comet_ml"
      ],
      "metadata": {
        "colab": {
          "base_uri": "https://localhost:8080/"
        },
        "id": "rUvlQT0T7G2V",
        "outputId": "f16ea19d-cf85-4e2f-9d46-1e29051e666b"
      },
      "execution_count": 1,
      "outputs": [
        {
          "output_type": "stream",
          "name": "stdout",
          "text": [
            "Collecting comet_ml\n",
            "  Downloading comet_ml-3.30.0-py2.py3-none-any.whl (347 kB)\n",
            "\u001b[?25l\r\u001b[K     |█                               | 10 kB 17.4 MB/s eta 0:00:01\r\u001b[K     |█▉                              | 20 kB 10.2 MB/s eta 0:00:01\r\u001b[K     |██▉                             | 30 kB 8.3 MB/s eta 0:00:01\r\u001b[K     |███▊                            | 40 kB 3.5 MB/s eta 0:00:01\r\u001b[K     |████▊                           | 51 kB 3.6 MB/s eta 0:00:01\r\u001b[K     |█████▋                          | 61 kB 4.2 MB/s eta 0:00:01\r\u001b[K     |██████▋                         | 71 kB 4.4 MB/s eta 0:00:01\r\u001b[K     |███████▌                        | 81 kB 4.5 MB/s eta 0:00:01\r\u001b[K     |████████▌                       | 92 kB 4.9 MB/s eta 0:00:01\r\u001b[K     |█████████▍                      | 102 kB 4.2 MB/s eta 0:00:01\r\u001b[K     |██████████▍                     | 112 kB 4.2 MB/s eta 0:00:01\r\u001b[K     |███████████▎                    | 122 kB 4.2 MB/s eta 0:00:01\r\u001b[K     |████████████▎                   | 133 kB 4.2 MB/s eta 0:00:01\r\u001b[K     |█████████████▏                  | 143 kB 4.2 MB/s eta 0:00:01\r\u001b[K     |██████████████▏                 | 153 kB 4.2 MB/s eta 0:00:01\r\u001b[K     |███████████████                 | 163 kB 4.2 MB/s eta 0:00:01\r\u001b[K     |████████████████                | 174 kB 4.2 MB/s eta 0:00:01\r\u001b[K     |█████████████████               | 184 kB 4.2 MB/s eta 0:00:01\r\u001b[K     |██████████████████              | 194 kB 4.2 MB/s eta 0:00:01\r\u001b[K     |██████████████████▉             | 204 kB 4.2 MB/s eta 0:00:01\r\u001b[K     |███████████████████▉            | 215 kB 4.2 MB/s eta 0:00:01\r\u001b[K     |████████████████████▊           | 225 kB 4.2 MB/s eta 0:00:01\r\u001b[K     |█████████████████████▊          | 235 kB 4.2 MB/s eta 0:00:01\r\u001b[K     |██████████████████████▋         | 245 kB 4.2 MB/s eta 0:00:01\r\u001b[K     |███████████████████████▋        | 256 kB 4.2 MB/s eta 0:00:01\r\u001b[K     |████████████████████████▌       | 266 kB 4.2 MB/s eta 0:00:01\r\u001b[K     |█████████████████████████▌      | 276 kB 4.2 MB/s eta 0:00:01\r\u001b[K     |██████████████████████████▍     | 286 kB 4.2 MB/s eta 0:00:01\r\u001b[K     |███████████████████████████▍    | 296 kB 4.2 MB/s eta 0:00:01\r\u001b[K     |████████████████████████████▎   | 307 kB 4.2 MB/s eta 0:00:01\r\u001b[K     |█████████████████████████████▎  | 317 kB 4.2 MB/s eta 0:00:01\r\u001b[K     |██████████████████████████████▏ | 327 kB 4.2 MB/s eta 0:00:01\r\u001b[K     |███████████████████████████████▏| 337 kB 4.2 MB/s eta 0:00:01\r\u001b[K     |████████████████████████████████| 347 kB 4.2 MB/s \n",
            "\u001b[?25hRequirement already satisfied: six in /usr/local/lib/python3.7/dist-packages (from comet_ml) (1.15.0)\n",
            "Collecting dulwich!=0.20.33,>=0.20.6\n",
            "  Downloading dulwich-0.20.35-cp37-cp37m-manylinux_2_5_x86_64.manylinux1_x86_64.manylinux_2_12_x86_64.manylinux2010_x86_64.whl (551 kB)\n",
            "\u001b[K     |████████████████████████████████| 551 kB 49.5 MB/s \n",
            "\u001b[?25hRequirement already satisfied: jsonschema!=3.1.0,>=2.6.0 in /usr/local/lib/python3.7/dist-packages (from comet_ml) (4.3.3)\n",
            "Requirement already satisfied: wrapt>=1.11.2 in /usr/local/lib/python3.7/dist-packages (from comet_ml) (1.14.0)\n",
            "Collecting wurlitzer>=1.0.2\n",
            "  Downloading wurlitzer-3.0.2-py3-none-any.whl (7.3 kB)\n",
            "Collecting requests-toolbelt>=0.8.0\n",
            "  Downloading requests_toolbelt-0.9.1-py2.py3-none-any.whl (54 kB)\n",
            "\u001b[K     |████████████████████████████████| 54 kB 2.1 MB/s \n",
            "\u001b[?25hRequirement already satisfied: requests>=2.18.4 in /usr/local/lib/python3.7/dist-packages (from comet_ml) (2.23.0)\n",
            "Requirement already satisfied: nvidia-ml-py3>=7.352.0 in /usr/local/lib/python3.7/dist-packages (from comet_ml) (7.352.0)\n",
            "Collecting semantic-version>=2.8.0\n",
            "  Downloading semantic_version-2.9.0-py2.py3-none-any.whl (15 kB)\n",
            "Collecting everett[ini]>=1.0.1\n",
            "  Downloading everett-3.0.0-py2.py3-none-any.whl (35 kB)\n",
            "Collecting websocket-client>=0.55.0\n",
            "  Downloading websocket_client-1.3.2-py3-none-any.whl (54 kB)\n",
            "\u001b[K     |████████████████████████████████| 54 kB 2.2 MB/s \n",
            "\u001b[?25hRequirement already satisfied: certifi in /usr/local/lib/python3.7/dist-packages (from dulwich!=0.20.33,>=0.20.6->comet_ml) (2021.10.8)\n",
            "Requirement already satisfied: urllib3>=1.24.1 in /usr/local/lib/python3.7/dist-packages (from dulwich!=0.20.33,>=0.20.6->comet_ml) (1.24.3)\n",
            "Collecting configobj\n",
            "  Downloading configobj-5.0.6.tar.gz (33 kB)\n",
            "Requirement already satisfied: pyrsistent!=0.17.0,!=0.17.1,!=0.17.2,>=0.14.0 in /usr/local/lib/python3.7/dist-packages (from jsonschema!=3.1.0,>=2.6.0->comet_ml) (0.18.1)\n",
            "Requirement already satisfied: typing-extensions in /usr/local/lib/python3.7/dist-packages (from jsonschema!=3.1.0,>=2.6.0->comet_ml) (4.2.0)\n",
            "Requirement already satisfied: importlib-resources>=1.4.0 in /usr/local/lib/python3.7/dist-packages (from jsonschema!=3.1.0,>=2.6.0->comet_ml) (5.7.1)\n",
            "Requirement already satisfied: importlib-metadata in /usr/local/lib/python3.7/dist-packages (from jsonschema!=3.1.0,>=2.6.0->comet_ml) (4.11.3)\n",
            "Requirement already satisfied: attrs>=17.4.0 in /usr/local/lib/python3.7/dist-packages (from jsonschema!=3.1.0,>=2.6.0->comet_ml) (21.4.0)\n",
            "Requirement already satisfied: zipp>=3.1.0 in /usr/local/lib/python3.7/dist-packages (from importlib-resources>=1.4.0->jsonschema!=3.1.0,>=2.6.0->comet_ml) (3.8.0)\n",
            "Requirement already satisfied: chardet<4,>=3.0.2 in /usr/local/lib/python3.7/dist-packages (from requests>=2.18.4->comet_ml) (3.0.4)\n",
            "Requirement already satisfied: idna<3,>=2.5 in /usr/local/lib/python3.7/dist-packages (from requests>=2.18.4->comet_ml) (2.10)\n",
            "Building wheels for collected packages: configobj\n",
            "  Building wheel for configobj (setup.py) ... \u001b[?25l\u001b[?25hdone\n",
            "  Created wheel for configobj: filename=configobj-5.0.6-py3-none-any.whl size=34547 sha256=1a3dbccd4847833c3dc2647f342b223b47e3cdf467277a6da95e80329c9e1061\n",
            "  Stored in directory: /root/.cache/pip/wheels/0d/c4/19/13d74440f2a571841db6b6e0a273694327498884dafb9cf978\n",
            "Successfully built configobj\n",
            "Installing collected packages: everett, configobj, wurlitzer, websocket-client, semantic-version, requests-toolbelt, dulwich, comet-ml\n",
            "Successfully installed comet-ml-3.30.0 configobj-5.0.6 dulwich-0.20.35 everett-3.0.0 requests-toolbelt-0.9.1 semantic-version-2.9.0 websocket-client-1.3.2 wurlitzer-3.0.2\n"
          ]
        }
      ]
    },
    {
      "cell_type": "code",
      "execution_count": 2,
      "metadata": {
        "id": "sRhyjn7ImyWB",
        "colab": {
          "base_uri": "https://localhost:8080/"
        },
        "outputId": "b3a0f933-a9ce-48d6-a5f1-86794d4e6277"
      },
      "outputs": [
        {
          "output_type": "stream",
          "name": "stderr",
          "text": [
            "COMET WARNING: Comet has disabled auto-logging functionality as it has been imported after the following ML modules: tensorflow, sklearn, keras, tensorboard. Metrics and hyperparameters can still be logged using comet_ml.log_metrics() and comet_ml.log_parameters()\n",
            "COMET WARNING: As you are running in a Jupyter environment, you will need to call `experiment.end()` when finished to ensure all metrics and code are logged before exiting.\n",
            "COMET ERROR: Failed to calculate active processors count. Fall back to default CPU count 1\n",
            "COMET INFO: Couldn't find a Git repository in '/content' nor in any parent directory. You can override where Comet is looking for a Git Patch by setting the configuration `COMET_GIT_DIRECTORY`\n",
            "COMET INFO: Experiment is live on comet.ml https://www.comet.ml/ada-ferreira/energy-consumption/f7c4ee3c0bdf4d97bc28b132a365ba49\n",
            "\n"
          ]
        }
      ],
      "source": [
        "import pandas as pd\n",
        "from matplotlib import pyplot as plt\n",
        "import datetime\n",
        "import numpy as np\n",
        "from tensorflow.keras.models import Sequential\n",
        "from tensorflow.keras.layers import LSTM, Dense, RepeatVector, TimeDistributed\n",
        "from tensorflow.keras.optimizers import Adam\n",
        "from sklearn.preprocessing import MinMaxScaler\n",
        "from sklearn.model_selection import train_test_split\n",
        "from sklearn.metrics import mean_squared_error\n",
        "from comet_ml import Experiment\n",
        "\n",
        "# Create an experiment with your api key\n",
        "experiment = Experiment(\n",
        "    api_key=\"Iy98TxnyEt52Fv5nugZ6muTmR\",\n",
        "    project_name=\"energy-consumption\",\n",
        "    workspace=\"ada-ferreira\",\n",
        ")\n",
        "\n",
        "experiment.set_name(\"Multi-step Prediction\")\n",
        "\n",
        "\n",
        "\n",
        "plt.style.use('ggplot')"
      ]
    },
    {
      "cell_type": "code",
      "source": [
        "!wget --no-clobber https://raw.githubusercontent.com/rafalopes74/EnergyConsumptionAI/main/DAYTON_hourly.csv"
      ],
      "metadata": {
        "colab": {
          "base_uri": "https://localhost:8080/"
        },
        "id": "no4yl2o6m0Zr",
        "outputId": "e34ddebd-a5f5-4462-e0c6-fd07fa3f3f19"
      },
      "execution_count": 3,
      "outputs": [
        {
          "output_type": "stream",
          "name": "stdout",
          "text": [
            "--2022-04-29 17:18:36--  https://raw.githubusercontent.com/rafalopes74/EnergyConsumptionAI/main/DAYTON_hourly.csv\n",
            "Resolving raw.githubusercontent.com (raw.githubusercontent.com)... 185.199.110.133, 185.199.108.133, 185.199.109.133, ...\n",
            "Connecting to raw.githubusercontent.com (raw.githubusercontent.com)|185.199.110.133|:443... connected.\n",
            "HTTP request sent, awaiting response... 200 OK\n",
            "Length: 3274443 (3.1M) [text/plain]\n",
            "Saving to: ‘DAYTON_hourly.csv’\n",
            "\n",
            "DAYTON_hourly.csv   100%[===================>]   3.12M  --.-KB/s    in 0.1s    \n",
            "\n",
            "2022-04-29 17:18:36 (31.6 MB/s) - ‘DAYTON_hourly.csv’ saved [3274443/3274443]\n",
            "\n"
          ]
        }
      ]
    },
    {
      "cell_type": "code",
      "source": [
        "data = pd.read_csv(\"/content/DAYTON_hourly.csv\", header = 'infer', parse_dates = True)\n",
        "data['Datetime'] = pd.to_datetime(data['Datetime'])\n",
        "data = data.set_index(\"Datetime\")\n",
        "\n",
        "data.resample('3H').sum()"
      ],
      "metadata": {
        "colab": {
          "base_uri": "https://localhost:8080/",
          "height": 455
        },
        "id": "p88RzdRam0by",
        "outputId": "67870d8c-8a09-4d28-80cf-64ba584d8598"
      },
      "execution_count": 4,
      "outputs": [
        {
          "output_type": "execute_result",
          "data": {
            "text/plain": [
              "                     DAYTON_MW\n",
              "Datetime                      \n",
              "2004-10-01 00:00:00     3157.0\n",
              "2004-10-01 03:00:00     4423.0\n",
              "2004-10-01 06:00:00     5486.0\n",
              "2004-10-01 09:00:00     6209.0\n",
              "2004-10-01 12:00:00     6450.0\n",
              "...                        ...\n",
              "2018-08-02 12:00:00     7269.0\n",
              "2018-08-02 15:00:00     7796.0\n",
              "2018-08-02 18:00:00     7778.0\n",
              "2018-08-02 21:00:00     7136.0\n",
              "2018-08-03 00:00:00     2042.0\n",
              "\n",
              "[40433 rows x 1 columns]"
            ],
            "text/html": [
              "\n",
              "  <div id=\"df-35a6976a-b4d5-49b5-a392-7ade18055843\">\n",
              "    <div class=\"colab-df-container\">\n",
              "      <div>\n",
              "<style scoped>\n",
              "    .dataframe tbody tr th:only-of-type {\n",
              "        vertical-align: middle;\n",
              "    }\n",
              "\n",
              "    .dataframe tbody tr th {\n",
              "        vertical-align: top;\n",
              "    }\n",
              "\n",
              "    .dataframe thead th {\n",
              "        text-align: right;\n",
              "    }\n",
              "</style>\n",
              "<table border=\"1\" class=\"dataframe\">\n",
              "  <thead>\n",
              "    <tr style=\"text-align: right;\">\n",
              "      <th></th>\n",
              "      <th>DAYTON_MW</th>\n",
              "    </tr>\n",
              "    <tr>\n",
              "      <th>Datetime</th>\n",
              "      <th></th>\n",
              "    </tr>\n",
              "  </thead>\n",
              "  <tbody>\n",
              "    <tr>\n",
              "      <th>2004-10-01 00:00:00</th>\n",
              "      <td>3157.0</td>\n",
              "    </tr>\n",
              "    <tr>\n",
              "      <th>2004-10-01 03:00:00</th>\n",
              "      <td>4423.0</td>\n",
              "    </tr>\n",
              "    <tr>\n",
              "      <th>2004-10-01 06:00:00</th>\n",
              "      <td>5486.0</td>\n",
              "    </tr>\n",
              "    <tr>\n",
              "      <th>2004-10-01 09:00:00</th>\n",
              "      <td>6209.0</td>\n",
              "    </tr>\n",
              "    <tr>\n",
              "      <th>2004-10-01 12:00:00</th>\n",
              "      <td>6450.0</td>\n",
              "    </tr>\n",
              "    <tr>\n",
              "      <th>...</th>\n",
              "      <td>...</td>\n",
              "    </tr>\n",
              "    <tr>\n",
              "      <th>2018-08-02 12:00:00</th>\n",
              "      <td>7269.0</td>\n",
              "    </tr>\n",
              "    <tr>\n",
              "      <th>2018-08-02 15:00:00</th>\n",
              "      <td>7796.0</td>\n",
              "    </tr>\n",
              "    <tr>\n",
              "      <th>2018-08-02 18:00:00</th>\n",
              "      <td>7778.0</td>\n",
              "    </tr>\n",
              "    <tr>\n",
              "      <th>2018-08-02 21:00:00</th>\n",
              "      <td>7136.0</td>\n",
              "    </tr>\n",
              "    <tr>\n",
              "      <th>2018-08-03 00:00:00</th>\n",
              "      <td>2042.0</td>\n",
              "    </tr>\n",
              "  </tbody>\n",
              "</table>\n",
              "<p>40433 rows × 1 columns</p>\n",
              "</div>\n",
              "      <button class=\"colab-df-convert\" onclick=\"convertToInteractive('df-35a6976a-b4d5-49b5-a392-7ade18055843')\"\n",
              "              title=\"Convert this dataframe to an interactive table.\"\n",
              "              style=\"display:none;\">\n",
              "        \n",
              "  <svg xmlns=\"http://www.w3.org/2000/svg\" height=\"24px\"viewBox=\"0 0 24 24\"\n",
              "       width=\"24px\">\n",
              "    <path d=\"M0 0h24v24H0V0z\" fill=\"none\"/>\n",
              "    <path d=\"M18.56 5.44l.94 2.06.94-2.06 2.06-.94-2.06-.94-.94-2.06-.94 2.06-2.06.94zm-11 1L8.5 8.5l.94-2.06 2.06-.94-2.06-.94L8.5 2.5l-.94 2.06-2.06.94zm10 10l.94 2.06.94-2.06 2.06-.94-2.06-.94-.94-2.06-.94 2.06-2.06.94z\"/><path d=\"M17.41 7.96l-1.37-1.37c-.4-.4-.92-.59-1.43-.59-.52 0-1.04.2-1.43.59L10.3 9.45l-7.72 7.72c-.78.78-.78 2.05 0 2.83L4 21.41c.39.39.9.59 1.41.59.51 0 1.02-.2 1.41-.59l7.78-7.78 2.81-2.81c.8-.78.8-2.07 0-2.86zM5.41 20L4 18.59l7.72-7.72 1.47 1.35L5.41 20z\"/>\n",
              "  </svg>\n",
              "      </button>\n",
              "      \n",
              "  <style>\n",
              "    .colab-df-container {\n",
              "      display:flex;\n",
              "      flex-wrap:wrap;\n",
              "      gap: 12px;\n",
              "    }\n",
              "\n",
              "    .colab-df-convert {\n",
              "      background-color: #E8F0FE;\n",
              "      border: none;\n",
              "      border-radius: 50%;\n",
              "      cursor: pointer;\n",
              "      display: none;\n",
              "      fill: #1967D2;\n",
              "      height: 32px;\n",
              "      padding: 0 0 0 0;\n",
              "      width: 32px;\n",
              "    }\n",
              "\n",
              "    .colab-df-convert:hover {\n",
              "      background-color: #E2EBFA;\n",
              "      box-shadow: 0px 1px 2px rgba(60, 64, 67, 0.3), 0px 1px 3px 1px rgba(60, 64, 67, 0.15);\n",
              "      fill: #174EA6;\n",
              "    }\n",
              "\n",
              "    [theme=dark] .colab-df-convert {\n",
              "      background-color: #3B4455;\n",
              "      fill: #D2E3FC;\n",
              "    }\n",
              "\n",
              "    [theme=dark] .colab-df-convert:hover {\n",
              "      background-color: #434B5C;\n",
              "      box-shadow: 0px 1px 3px 1px rgba(0, 0, 0, 0.15);\n",
              "      filter: drop-shadow(0px 1px 2px rgba(0, 0, 0, 0.3));\n",
              "      fill: #FFFFFF;\n",
              "    }\n",
              "  </style>\n",
              "\n",
              "      <script>\n",
              "        const buttonEl =\n",
              "          document.querySelector('#df-35a6976a-b4d5-49b5-a392-7ade18055843 button.colab-df-convert');\n",
              "        buttonEl.style.display =\n",
              "          google.colab.kernel.accessAllowed ? 'block' : 'none';\n",
              "\n",
              "        async function convertToInteractive(key) {\n",
              "          const element = document.querySelector('#df-35a6976a-b4d5-49b5-a392-7ade18055843');\n",
              "          const dataTable =\n",
              "            await google.colab.kernel.invokeFunction('convertToInteractive',\n",
              "                                                     [key], {});\n",
              "          if (!dataTable) return;\n",
              "\n",
              "          const docLinkHtml = 'Like what you see? Visit the ' +\n",
              "            '<a target=\"_blank\" href=https://colab.research.google.com/notebooks/data_table.ipynb>data table notebook</a>'\n",
              "            + ' to learn more about interactive tables.';\n",
              "          element.innerHTML = '';\n",
              "          dataTable['output_type'] = 'display_data';\n",
              "          await google.colab.output.renderOutput(dataTable, element);\n",
              "          const docLink = document.createElement('div');\n",
              "          docLink.innerHTML = docLinkHtml;\n",
              "          element.appendChild(docLink);\n",
              "        }\n",
              "      </script>\n",
              "    </div>\n",
              "  </div>\n",
              "  "
            ]
          },
          "metadata": {},
          "execution_count": 4
        }
      ]
    },
    {
      "cell_type": "code",
      "source": [
        "data.shape"
      ],
      "metadata": {
        "colab": {
          "base_uri": "https://localhost:8080/"
        },
        "id": "wx93tDQAm0dz",
        "outputId": "aaa32873-3735-47d3-fb56-de2ccb1087e5"
      },
      "execution_count": 5,
      "outputs": [
        {
          "output_type": "execute_result",
          "data": {
            "text/plain": [
              "(121275, 1)"
            ]
          },
          "metadata": {},
          "execution_count": 5
        }
      ]
    },
    {
      "cell_type": "code",
      "source": [
        "data.tail(5)"
      ],
      "metadata": {
        "colab": {
          "base_uri": "https://localhost:8080/",
          "height": 238
        },
        "id": "hcXL-F-Dm0gB",
        "outputId": "0d78fd79-efb4-4cd1-be13-85fb15bb0e50"
      },
      "execution_count": 6,
      "outputs": [
        {
          "output_type": "execute_result",
          "data": {
            "text/plain": [
              "                     DAYTON_MW\n",
              "Datetime                      \n",
              "2018-01-01 20:00:00     2732.0\n",
              "2018-01-01 21:00:00     2724.0\n",
              "2018-01-01 22:00:00     2664.0\n",
              "2018-01-01 23:00:00     2614.0\n",
              "2018-01-02 00:00:00     2552.0"
            ],
            "text/html": [
              "\n",
              "  <div id=\"df-67c9f688-e75b-44d4-ad28-49f3aeec4ce3\">\n",
              "    <div class=\"colab-df-container\">\n",
              "      <div>\n",
              "<style scoped>\n",
              "    .dataframe tbody tr th:only-of-type {\n",
              "        vertical-align: middle;\n",
              "    }\n",
              "\n",
              "    .dataframe tbody tr th {\n",
              "        vertical-align: top;\n",
              "    }\n",
              "\n",
              "    .dataframe thead th {\n",
              "        text-align: right;\n",
              "    }\n",
              "</style>\n",
              "<table border=\"1\" class=\"dataframe\">\n",
              "  <thead>\n",
              "    <tr style=\"text-align: right;\">\n",
              "      <th></th>\n",
              "      <th>DAYTON_MW</th>\n",
              "    </tr>\n",
              "    <tr>\n",
              "      <th>Datetime</th>\n",
              "      <th></th>\n",
              "    </tr>\n",
              "  </thead>\n",
              "  <tbody>\n",
              "    <tr>\n",
              "      <th>2018-01-01 20:00:00</th>\n",
              "      <td>2732.0</td>\n",
              "    </tr>\n",
              "    <tr>\n",
              "      <th>2018-01-01 21:00:00</th>\n",
              "      <td>2724.0</td>\n",
              "    </tr>\n",
              "    <tr>\n",
              "      <th>2018-01-01 22:00:00</th>\n",
              "      <td>2664.0</td>\n",
              "    </tr>\n",
              "    <tr>\n",
              "      <th>2018-01-01 23:00:00</th>\n",
              "      <td>2614.0</td>\n",
              "    </tr>\n",
              "    <tr>\n",
              "      <th>2018-01-02 00:00:00</th>\n",
              "      <td>2552.0</td>\n",
              "    </tr>\n",
              "  </tbody>\n",
              "</table>\n",
              "</div>\n",
              "      <button class=\"colab-df-convert\" onclick=\"convertToInteractive('df-67c9f688-e75b-44d4-ad28-49f3aeec4ce3')\"\n",
              "              title=\"Convert this dataframe to an interactive table.\"\n",
              "              style=\"display:none;\">\n",
              "        \n",
              "  <svg xmlns=\"http://www.w3.org/2000/svg\" height=\"24px\"viewBox=\"0 0 24 24\"\n",
              "       width=\"24px\">\n",
              "    <path d=\"M0 0h24v24H0V0z\" fill=\"none\"/>\n",
              "    <path d=\"M18.56 5.44l.94 2.06.94-2.06 2.06-.94-2.06-.94-.94-2.06-.94 2.06-2.06.94zm-11 1L8.5 8.5l.94-2.06 2.06-.94-2.06-.94L8.5 2.5l-.94 2.06-2.06.94zm10 10l.94 2.06.94-2.06 2.06-.94-2.06-.94-.94-2.06-.94 2.06-2.06.94z\"/><path d=\"M17.41 7.96l-1.37-1.37c-.4-.4-.92-.59-1.43-.59-.52 0-1.04.2-1.43.59L10.3 9.45l-7.72 7.72c-.78.78-.78 2.05 0 2.83L4 21.41c.39.39.9.59 1.41.59.51 0 1.02-.2 1.41-.59l7.78-7.78 2.81-2.81c.8-.78.8-2.07 0-2.86zM5.41 20L4 18.59l7.72-7.72 1.47 1.35L5.41 20z\"/>\n",
              "  </svg>\n",
              "      </button>\n",
              "      \n",
              "  <style>\n",
              "    .colab-df-container {\n",
              "      display:flex;\n",
              "      flex-wrap:wrap;\n",
              "      gap: 12px;\n",
              "    }\n",
              "\n",
              "    .colab-df-convert {\n",
              "      background-color: #E8F0FE;\n",
              "      border: none;\n",
              "      border-radius: 50%;\n",
              "      cursor: pointer;\n",
              "      display: none;\n",
              "      fill: #1967D2;\n",
              "      height: 32px;\n",
              "      padding: 0 0 0 0;\n",
              "      width: 32px;\n",
              "    }\n",
              "\n",
              "    .colab-df-convert:hover {\n",
              "      background-color: #E2EBFA;\n",
              "      box-shadow: 0px 1px 2px rgba(60, 64, 67, 0.3), 0px 1px 3px 1px rgba(60, 64, 67, 0.15);\n",
              "      fill: #174EA6;\n",
              "    }\n",
              "\n",
              "    [theme=dark] .colab-df-convert {\n",
              "      background-color: #3B4455;\n",
              "      fill: #D2E3FC;\n",
              "    }\n",
              "\n",
              "    [theme=dark] .colab-df-convert:hover {\n",
              "      background-color: #434B5C;\n",
              "      box-shadow: 0px 1px 3px 1px rgba(0, 0, 0, 0.15);\n",
              "      filter: drop-shadow(0px 1px 2px rgba(0, 0, 0, 0.3));\n",
              "      fill: #FFFFFF;\n",
              "    }\n",
              "  </style>\n",
              "\n",
              "      <script>\n",
              "        const buttonEl =\n",
              "          document.querySelector('#df-67c9f688-e75b-44d4-ad28-49f3aeec4ce3 button.colab-df-convert');\n",
              "        buttonEl.style.display =\n",
              "          google.colab.kernel.accessAllowed ? 'block' : 'none';\n",
              "\n",
              "        async function convertToInteractive(key) {\n",
              "          const element = document.querySelector('#df-67c9f688-e75b-44d4-ad28-49f3aeec4ce3');\n",
              "          const dataTable =\n",
              "            await google.colab.kernel.invokeFunction('convertToInteractive',\n",
              "                                                     [key], {});\n",
              "          if (!dataTable) return;\n",
              "\n",
              "          const docLinkHtml = 'Like what you see? Visit the ' +\n",
              "            '<a target=\"_blank\" href=https://colab.research.google.com/notebooks/data_table.ipynb>data table notebook</a>'\n",
              "            + ' to learn more about interactive tables.';\n",
              "          element.innerHTML = '';\n",
              "          dataTable['output_type'] = 'display_data';\n",
              "          await google.colab.output.renderOutput(dataTable, element);\n",
              "          const docLink = document.createElement('div');\n",
              "          docLink.innerHTML = docLinkHtml;\n",
              "          element.appendChild(docLink);\n",
              "        }\n",
              "      </script>\n",
              "    </div>\n",
              "  </div>\n",
              "  "
            ]
          },
          "metadata": {},
          "execution_count": 6
        }
      ]
    },
    {
      "cell_type": "code",
      "source": [
        "scaler = MinMaxScaler()\n",
        "normalized_data = scaler.fit_transform(data)"
      ],
      "metadata": {
        "id": "jE58FNCbnBW8"
      },
      "execution_count": 7,
      "outputs": []
    },
    {
      "cell_type": "code",
      "source": [
        "train, test = train_test_split(normalized_data, test_size = 0.2, shuffle = False)\n",
        "print(len(data), len(train), len(test))"
      ],
      "metadata": {
        "colab": {
          "base_uri": "https://localhost:8080/"
        },
        "id": "7nX6N4leu3T5",
        "outputId": "ff07c1a0-ea74-43f0-b491-90b92245cba4"
      },
      "execution_count": 8,
      "outputs": [
        {
          "output_type": "stream",
          "name": "stdout",
          "text": [
            "121275 97020 24255\n"
          ]
        }
      ]
    },
    {
      "cell_type": "markdown",
      "source": [
        "  Hyper parameters"
      ],
      "metadata": {
        "id": "Qr9MJk1kwSXb"
      }
    },
    {
      "cell_type": "code",
      "source": [
        "n_steps_out = 8\n",
        "lag = 8\n",
        "\n",
        "n_steps_in = 32\n",
        "n_epochs = 9\n",
        "learn_rate = 0.0002\n",
        "batch_size = 1\n",
        "\n",
        "params = {\n",
        "  \"Steps\" : n_steps_in,\n",
        "  \"Epochs\" : n_epochs,\n",
        "  \"Learn rate\" : learn_rate,\n",
        "  \"Batch size\" : batch_size\n",
        "}\n",
        "\n",
        "experiment.log_parameters(params)"
      ],
      "metadata": {
        "id": "Wph6cm2wv6ie"
      },
      "execution_count": 9,
      "outputs": []
    },
    {
      "cell_type": "markdown",
      "source": [
        "Model"
      ],
      "metadata": {
        "id": "m9K0uB4X2dPL"
      }
    },
    {
      "cell_type": "code",
      "source": [
        "model = Sequential()\n",
        "model.add(LSTM(100, activation='relu', input_shape=(n_steps_in, 1)))\n",
        "model.add(RepeatVector(n_steps_out))\n",
        "model.add(LSTM(100, activation='relu', return_sequences=True))\n",
        "model.add(TimeDistributed(Dense(1)))\n",
        "\n",
        "my_optimizer = Adam(lr=learn_rate)\n",
        "model.compile(optimizer=my_optimizer, loss='mse')"
      ],
      "metadata": {
        "colab": {
          "base_uri": "https://localhost:8080/"
        },
        "id": "1n5yOXMPvIzJ",
        "outputId": "b759c917-69ec-4eed-8f9f-1209b364e493"
      },
      "execution_count": 10,
      "outputs": [
        {
          "output_type": "stream",
          "name": "stderr",
          "text": [
            "/usr/local/lib/python3.7/dist-packages/keras/optimizer_v2/adam.py:105: UserWarning: The `lr` argument is deprecated, use `learning_rate` instead.\n",
            "  super(Adam, self).__init__(name, **kwargs)\n"
          ]
        }
      ]
    },
    {
      "cell_type": "code",
      "source": [
        "def split_sequence(sequence, n_steps_in, n_steps_out, lag = 0):\n",
        "  X, y = list(), list()\n",
        "  i = 0\n",
        "  while i < len(sequence):\n",
        "    # find the end of this pattern\n",
        "    end_ix = i + n_steps_in\n",
        "    out_end_ix = end_ix + n_steps_out\n",
        "\n",
        "    # check if we are beyond the sequence\n",
        "    if out_end_ix + lag > len(sequence):\n",
        "      break\n",
        "\n",
        "    # gather input and output parts of the pattern\n",
        "    seq_x, seq_y = sequence[i:end_ix], sequence[end_ix + lag:out_end_ix + lag]\n",
        "    i = i + n_steps_out\n",
        "    X.append(seq_x)\n",
        "    y.append(seq_y)\n",
        "  \n",
        "  return np.array(X), np.array(y)"
      ],
      "metadata": {
        "id": "zTFTC431q3qu"
      },
      "execution_count": 11,
      "outputs": []
    },
    {
      "cell_type": "code",
      "source": [
        "seq = [0, 1, 2, 3, 4, 5, 6, 7, 8]\n",
        "input, output = split_sequence(seq, n_steps_in = 4, n_steps_out = 2, lag = 1)\n",
        "\n",
        "print(input)\n",
        "print()\n",
        "print(output)"
      ],
      "metadata": {
        "id": "C_kQU83rhHrC",
        "outputId": "382274d8-f421-4b4a-f945-929274417fbc",
        "colab": {
          "base_uri": "https://localhost:8080/"
        }
      },
      "execution_count": 12,
      "outputs": [
        {
          "output_type": "stream",
          "name": "stdout",
          "text": [
            "[[0 1 2 3]\n",
            " [2 3 4 5]]\n",
            "\n",
            "[[5 6]\n",
            " [7 8]]\n"
          ]
        }
      ]
    },
    {
      "cell_type": "code",
      "source": [
        "# split into samples\n",
        "trainX, trainY = split_sequence(train, n_steps_in, n_steps_out)\n",
        "testX, testY = split_sequence(test, n_steps_in, n_steps_out)\n",
        "\n",
        "trainX = trainX.reshape((trainX.shape[0], trainX.shape[1], 1))\n",
        "testX = testX.reshape((testX.shape[0], testX.shape[1], 1))"
      ],
      "metadata": {
        "id": "lLb_mp9dr2tN"
      },
      "execution_count": 15,
      "outputs": []
    },
    {
      "cell_type": "code",
      "source": [
        "%%time\n",
        "summary = model.fit(trainX, trainY, epochs=n_epochs, batch_size=batch_size)"
      ],
      "metadata": {
        "colab": {
          "base_uri": "https://localhost:8080/"
        },
        "id": "jnHw5cJxwLSn",
        "outputId": "c4fa93de-f4f2-4372-a027-8aaf69775780"
      },
      "execution_count": 16,
      "outputs": [
        {
          "output_type": "stream",
          "name": "stdout",
          "text": [
            "Epoch 1/9\n",
            "12123/12123 [==============================] - 163s 13ms/step - loss: 0.0132\n",
            "Epoch 2/9\n",
            "12123/12123 [==============================] - 158s 13ms/step - loss: 0.0043\n",
            "Epoch 3/9\n",
            "12123/12123 [==============================] - 160s 13ms/step - loss: 0.0032\n",
            "Epoch 4/9\n",
            "12123/12123 [==============================] - 159s 13ms/step - loss: 0.0028\n",
            "Epoch 5/9\n",
            "12123/12123 [==============================] - 160s 13ms/step - loss: 0.0026\n",
            "Epoch 6/9\n",
            "12123/12123 [==============================] - 157s 13ms/step - loss: 0.0023\n",
            "Epoch 7/9\n",
            "12123/12123 [==============================] - 156s 13ms/step - loss: 0.0022\n",
            "Epoch 8/9\n",
            "12123/12123 [==============================] - 154s 13ms/step - loss: 0.0020\n",
            "Epoch 9/9\n",
            "12123/12123 [==============================] - 154s 13ms/step - loss: 0.0020\n",
            "CPU times: user 36min 35s, sys: 2min, total: 38min 35s\n",
            "Wall time: 23min 41s\n"
          ]
        }
      ]
    },
    {
      "cell_type": "code",
      "source": [
        "plt.plot(summary.history['loss'], c=\"b\")\n",
        "plt.title('Training History')\n",
        "plt.ylabel('MSE')\n",
        "plt.xlabel('Epoch')\n",
        "plt.legend(['Train'], loc='upper right')\n",
        "plt.show()"
      ],
      "metadata": {
        "colab": {
          "base_uri": "https://localhost:8080/",
          "height": 299
        },
        "id": "kBgqy4b51a5Z",
        "outputId": "fda265cf-598f-4ebf-b735-949b6edae5c7"
      },
      "execution_count": 17,
      "outputs": [
        {
          "output_type": "display_data",
          "data": {
            "text/plain": [
              "<Figure size 432x288 with 1 Axes>"
            ],
            "image/png": "[encoded data removed]"
          },
          "metadata": {}
        }
      ]
    },
    {
      "cell_type": "code",
      "source": [
        "trainPredict = model.predict(trainX, verbose=0)\n",
        "testPredict = model.predict(testX, verbose=0)"
      ],
      "metadata": {
        "id": "823EkrqVy2rF",
        "outputId": "68d75b8e-9050-4671-a514-ed0f9a85c5ef",
        "colab": {
          "base_uri": "https://localhost:8080/",
          "height": 182
        }
      },
      "execution_count": 1,
      "outputs": [
        {
          "output_type": "error",
          "ename": "NameError",
          "evalue": "ignored",
          "traceback": [
            "\u001b[0;31m---------------------------------------------------------------------------\u001b[0m",
            "\u001b[0;31mNameError\u001b[0m                                 Traceback (most recent call last)",
            "\u001b[0;32m<ipython-input-1-b05499dc7912>\u001b[0m in \u001b[0;36m<module>\u001b[0;34m()\u001b[0m\n\u001b[0;32m----> 1\u001b[0;31m \u001b[0mtrainPredict\u001b[0m \u001b[0;34m=\u001b[0m \u001b[0mmodel\u001b[0m\u001b[0;34m.\u001b[0m\u001b[0mpredict\u001b[0m\u001b[0;34m(\u001b[0m\u001b[0mtrainX\u001b[0m\u001b[0;34m,\u001b[0m \u001b[0mverbose\u001b[0m\u001b[0;34m=\u001b[0m\u001b[0;36m0\u001b[0m\u001b[0;34m)\u001b[0m\u001b[0;34m\u001b[0m\u001b[0;34m\u001b[0m\u001b[0m\n\u001b[0m\u001b[1;32m      2\u001b[0m \u001b[0mtestPredict\u001b[0m \u001b[0;34m=\u001b[0m \u001b[0mmodel\u001b[0m\u001b[0;34m.\u001b[0m\u001b[0mpredict\u001b[0m\u001b[0;34m(\u001b[0m\u001b[0mtestX\u001b[0m\u001b[0;34m,\u001b[0m \u001b[0mverbose\u001b[0m\u001b[0;34m=\u001b[0m\u001b[0;36m0\u001b[0m\u001b[0;34m)\u001b[0m\u001b[0;34m\u001b[0m\u001b[0;34m\u001b[0m\u001b[0m\n",
            "\u001b[0;31mNameError\u001b[0m: name 'model' is not defined"
          ]
        }
      ]
    },
    {
      "cell_type": "code",
      "source": [
        "trainPredict.flatten()"
      ],
      "metadata": {
        "id": "UlOOi2rEzDOQ",
        "outputId": "e537bb10-29ae-4547-ab69-ee2bdab851a5",
        "colab": {
          "base_uri": "https://localhost:8080/"
        }
      },
      "execution_count": 19,
      "outputs": [
        {
          "output_type": "execute_result",
          "data": {
            "text/plain": [
              "array([0.38651568, 0.3960377 , 0.39638454, ..., 0.3086238 , 0.29535952,\n",
              "       0.2860111 ], dtype=float32)"
            ]
          },
          "metadata": {},
          "execution_count": 19
        }
      ]
    },
    {
      "cell_type": "markdown",
      "source": [
        "Performance"
      ],
      "metadata": {
        "id": "rN9LZm94DhAF"
      }
    },
    {
      "cell_type": "code",
      "source": [
        "# invert predictions\n",
        "trainPredict = scaler.inverse_transform(trainPredict.reshape(-1,1))\n",
        "trainY = scaler.inverse_transform(trainY.reshape(-1,1))\n",
        "testPredict = scaler.inverse_transform(testPredict.reshape(-1,1))\n",
        "testY = scaler.inverse_transform(testY.reshape(-1,1))"
      ],
      "metadata": {
        "id": "eFd85ZgvUo4r"
      },
      "execution_count": 22,
      "outputs": []
    },
    {
      "cell_type": "code",
      "source": [
        "trainRMSE = np.sqrt(mean_squared_error(trainY.flatten(), trainPredict.flatten()))\n",
        "print('Train Score:')\n",
        "print('   %.3f RMSE' % (trainRMSE))\n",
        "\n",
        "testRMSE = np.sqrt(mean_squared_error(testY.flatten(), testPredict.flatten()))\n",
        "print('Test Score:')\n",
        "print('   %.3f RMSE' % (testRMSE))\n",
        "\n",
        "\n",
        "params = {\n",
        "  \"Train RMSE\" : trainRMSE,\n",
        "  \"Test RMSE\" : testRMSE\n",
        "}\n",
        "\n",
        "experiment.log_metrics(params)"
      ],
      "metadata": {
        "colab": {
          "base_uri": "https://localhost:8080/"
        },
        "id": "B0AU187n2jso",
        "outputId": "2c808993-c48e-423b-93f4-3a437dfc5117"
      },
      "execution_count": 23,
      "outputs": [
        {
          "output_type": "stream",
          "name": "stdout",
          "text": [
            "Train Score:\n",
            "   119.576 RMSE\n",
            "Test Score:\n",
            "   137.884 RMSE\n"
          ]
        }
      ]
    },
    {
      "cell_type": "code",
      "source": [
        "# Compare the training prediction\n",
        "\n",
        "plt.figure(figsize = (20, 5))\n",
        "\n",
        "plt.plot(trainY.flatten(), c='b',linewidth=0.5, linestyle=\"-\",label=\"Data\")\n",
        "plt.plot(trainPredict.flatten(), c='r',linewidth=1, linestyle=\"--\",label=\"Fit\")\n",
        "\n",
        "plt.legend()\n",
        "plt.tight_layout()\n",
        "plt.show()"
      ],
      "metadata": {
        "id": "3hw3SrZmzJir"
      },
      "execution_count": null,
      "outputs": []
    },
    {
      "cell_type": "code",
      "source": [
        "# Compare the test prediction\n",
        "\n",
        "plt.figure(figsize = (20, 5))\n",
        "\n",
        "plt.plot(testY.flatten()[:], c='b',linewidth=0.5, linestyle=\"-\",label=\"Data\")\n",
        "plt.plot(testPredict.flatten()[:], c='r',linewidth=2, linestyle=\"--\",label=\"Fit\")\n",
        "\n",
        "plt.legend()\n",
        "plt.tight_layout()\n",
        "plt.show()"
      ],
      "metadata": {
        "id": "Aq9dr-thzZYM"
      },
      "execution_count": null,
      "outputs": []
    }
  ]
}