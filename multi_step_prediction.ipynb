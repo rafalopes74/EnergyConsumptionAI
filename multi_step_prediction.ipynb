{
  "nbformat": 4,
  "nbformat_minor": 0,
  "metadata": {
    "colab": {
      "name": "multi-step_prediction.ipynb",
      "provenance": [],
      "authorship_tag": "ABX9TyMER1qkBj4igmHVbnP9X+Rn",
      "include_colab_link": true
    },
    "kernelspec": {
      "name": "python3",
      "display_name": "Python 3"
    },
    "language_info": {
      "name": "python"
    }
  },
  "cells": [
    {
      "cell_type": "markdown",
      "metadata": {
        "id": "view-in-github",
        "colab_type": "text"
      },
      "source": [
        "<a href=\"https://colab.research.google.com/github/rafalopes74/EnergyConsumptionAI/blob/main/multi_step_prediction.ipynb\" target=\"_parent\"><img src=\"https://colab.research.google.com/assets/colab-badge.svg\" alt=\"Open In Colab\"/></a>"
      ]
    },
    {
      "cell_type": "code",
      "execution_count": null,
      "metadata": {
        "id": "sRhyjn7ImyWB"
      },
      "outputs": [],
      "source": [
        "import pandas as pd\n",
        "from matplotlib import pyplot as plt\n",
        "import seaborn as sns\n",
        "import datetime\n",
        "import holidays\n",
        "import numpy as np\n",
        "import tensorflow as tf\n",
        "import math\n",
        "from tensorflow.keras.models import Sequential\n",
        "from tensorflow.keras.layers import LSTM, Dense, Dropout\n",
        "from tensorflow.keras.optimizers import Adam, RMSprop, SGD\n",
        "from sklearn.preprocessing import MinMaxScaler\n",
        "from sklearn.model_selection import train_test_split\n",
        "from sklearn.metrics import accuracy_score\n",
        "from keras.models import load_model\n",
        "from sklearn.metrics import mean_squared_error\n",
        "\n",
        "plt.style.use('ggplot')"
      ]
    },
    {
      "cell_type": "code",
      "source": [
        "!pip install holidays --upgrade"
      ],
      "metadata": {
        "id": "IFEFzbPYm0Xk"
      },
      "execution_count": null,
      "outputs": []
    },
    {
      "cell_type": "code",
      "source": [
        "!wget --no-clobber https://raw.githubusercontent.com/rafalopes74/EnergyConsumptionAI/main/DAYTON_hourly.csv"
      ],
      "metadata": {
        "id": "no4yl2o6m0Zr"
      },
      "execution_count": null,
      "outputs": []
    },
    {
      "cell_type": "code",
      "source": [
        "data = pd.read_csv(\"/content/DAYTON_hourly.csv\", header = 'infer', parse_dates = True)\n",
        "data['Datetime'] = pd.to_datetime(data['Datetime'])\n",
        "data = data.set_index(\"Datetime\")\n",
        "\n",
        "#data.resample('3H').sum()\n",
        "#data = data.resample('6H').sum()\n",
        "data = data.resample('12H').sum()\n",
        "#data.resample('1D').sum()\n",
        "#data.resample('1W').sum()\n",
        "#data.resample('1Y').sum()\n",
        "#data.groupby([data.index.year == 2015,data.index.month <3 ])['DAYTON_MW'].sum()"
      ],
      "metadata": {
        "id": "p88RzdRam0by"
      },
      "execution_count": null,
      "outputs": []
    },
    {
      "cell_type": "code",
      "source": [
        "data.shape"
      ],
      "metadata": {
        "id": "wx93tDQAm0dz"
      },
      "execution_count": null,
      "outputs": []
    },
    {
      "cell_type": "code",
      "source": [
        "data.tail(5)"
      ],
      "metadata": {
        "id": "hcXL-F-Dm0gB"
      },
      "execution_count": null,
      "outputs": []
    },
    {
      "cell_type": "code",
      "source": [
        "data = data[data.index.year >= 2008]\n",
        "\n",
        "scaler = MinMaxScaler()\n",
        "normalized_data = scaler.fit_transform(data)"
      ],
      "metadata": {
        "id": "jE58FNCbnBW8"
      },
      "execution_count": null,
      "outputs": []
    }
  ]
}